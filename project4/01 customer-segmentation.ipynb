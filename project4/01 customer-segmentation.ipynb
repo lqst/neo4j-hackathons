{
 "cells": [
  {
   "attachments": {},
   "cell_type": "markdown",
   "metadata": {},
   "source": [
    "# Customer segmentation\n",
    "Data set from kaggle: https://www.kaggle.com/code/fabiendaniel/customer-segmentation/"
   ]
  },
  {
   "cell_type": "code",
   "execution_count": null,
   "metadata": {},
   "outputs": [],
   "source": [
    "%%capture\n",
    "%pip install graphdatascience pandas ipython numpy"
   ]
  },
  {
   "cell_type": "code",
   "execution_count": null,
   "metadata": {},
   "outputs": [],
   "source": [
    "import pandas as pd\n",
    "from neo4j import GraphDatabase\n",
    "from graphdatascience import GraphDataScience\n",
    "import numpy as np"
   ]
  },
  {
   "cell_type": "code",
   "execution_count": null,
   "metadata": {},
   "outputs": [],
   "source": [
    "# Neo4j Connection details\n",
    "DB_ULR = 'neo4j://localhost:7687'\n",
    "DB_USER = 'neo4j'\n",
    "DB_PASS = 'test1234'\n",
    "DB_NAME = 'custseg'\n",
    "gds = GraphDataScience.from_neo4j_driver(DB_ULR, auth=(DB_USER, DB_PASS))\n",
    "gds.version()"
   ]
  },
  {
   "cell_type": "code",
   "execution_count": null,
   "metadata": {},
   "outputs": [],
   "source": [
    "gds.run_cypher(\"create database {dbname} if not exists wait\".format(dbname = DB_NAME), database=\"system\")"
   ]
  },
  {
   "cell_type": "code",
   "execution_count": null,
   "metadata": {},
   "outputs": [],
   "source": [
    "gds.set_database(DB_NAME)"
   ]
  },
  {
   "cell_type": "code",
   "execution_count": null,
   "metadata": {},
   "outputs": [],
   "source": [
    "# Read the csv file with pandas\n",
    "raw_csv = pd.read_csv('./datasets/data.csv',encoding=\"ISO-8859-1\",\n",
    "                         dtype={'CustomerID': str,'InvoiceID': str})\n",
    "raw_csv.head()"
   ]
  },
  {
   "cell_type": "code",
   "execution_count": null,
   "metadata": {},
   "outputs": [],
   "source": [
    "# Select customers\n",
    "df_customers = raw_csv[['CustomerID','Country']].drop_duplicates().dropna()\n",
    "df_customers.head()"
   ]
  },
  {
   "cell_type": "code",
   "execution_count": null,
   "metadata": {},
   "outputs": [],
   "source": [
    "# Create Customer nodes\n",
    "gds.run_cypher('create constraint if not exists for (n:Customer) require (n.id) is node key')\n",
    "create_customer_res = gds.run_cypher('''\n",
    "    unwind $data as row\n",
    "    merge (n:Customer{id: row.CustomerID})\n",
    "        set n.country = row.Country\n",
    "    return count(*) as custmers_created\n",
    "''', params = {'data': df_customers.to_dict('records')})\n",
    "create_customer_res.head()"
   ]
  },
  {
   "cell_type": "code",
   "execution_count": null,
   "metadata": {},
   "outputs": [],
   "source": [
    "# Select products\n",
    "df_products = raw_csv[['StockCode','UnitPrice']].drop_duplicates().dropna()\n",
    "\n",
    "# We want to store prices in cents so we can represent them as \n",
    "# integer values to avoid rounding errors later on\n",
    "df_products['UnitPrice'] = df_products['UnitPrice'] * 100 \n",
    "df_products.head()"
   ]
  },
  {
   "cell_type": "code",
   "execution_count": null,
   "metadata": {},
   "outputs": [],
   "source": [
    "# Create Product nodes\n",
    "gds.run_cypher('create constraint if not exists for (n:Product) require (n.id) is node key')\n",
    "create_product_res = gds.run_cypher('''\n",
    "    unwind $data as row\n",
    "    merge (n:Product{id: row.StockCode})\n",
    "        set n.price = toInteger(row.UnitPrice)\n",
    "    return count(*) as products_created\n",
    "''', params = {'data': df_products.to_dict('records')})\n",
    "create_product_res.head()"
   ]
  },
  {
   "cell_type": "code",
   "execution_count": null,
   "metadata": {},
   "outputs": [],
   "source": [
    "# Select invoice data\n",
    "df_invoices = raw_csv[['InvoiceNo', 'InvoiceDate']].drop_duplicates().dropna()\n",
    "df_invoices.head()"
   ]
  },
  {
   "cell_type": "code",
   "execution_count": null,
   "metadata": {},
   "outputs": [],
   "source": [
    "# Create Invoice nodes\n",
    "gds.run_cypher('create constraint if not exists for (n:Invoice) require (n.id) is node key')\n",
    "create_invoice_res = gds.run_cypher('''\n",
    "    unwind $data as row\n",
    "    with row,  apoc.date.parse(row.InvoiceDate, 'ms', 'dd/MM/yyyy HH:mm') as ms\n",
    "    merge (n:Invoice{id: row.InvoiceNo})\n",
    "        set n.invoice_date = datetime( { epochmillis: ms } )\n",
    "    return count(*) as invoices_created\n",
    "''', params = {'data': df_invoices.to_dict('records')})\n",
    "create_invoice_res.head()"
   ]
  },
  {
   "cell_type": "code",
   "execution_count": null,
   "metadata": {},
   "outputs": [],
   "source": [
    "# Select data for cust - invoice relationship\n",
    "df_billed_to = raw_csv[['CustomerID','InvoiceNo']].drop_duplicates().dropna()\n",
    "df_billed_to.head()"
   ]
  },
  {
   "cell_type": "code",
   "execution_count": null,
   "metadata": {},
   "outputs": [],
   "source": [
    "# Create billed_to relationship\n",
    "create_bill_to_res = gds.run_cypher('''\n",
    "    unwind $data as row\n",
    "    match (i:Invoice{id: row.InvoiceNo}), (c:Customer{id: row.CustomerID})\n",
    "    merge (i)-[:billed_to]->(c)\n",
    "    return count(*) as bill_to_rels_created\n",
    "''', params = {'data': df_billed_to.to_dict('records')})\n",
    "create_bill_to_res.head()"
   ]
  },
  {
   "cell_type": "code",
   "execution_count": null,
   "metadata": {},
   "outputs": [],
   "source": [
    "# Select data for invoice - product relationship\n",
    "df_line_item = raw_csv[['InvoiceNo','StockCode','Quantity']].drop_duplicates().dropna()\n",
    "df_line_item.head()"
   ]
  },
  {
   "cell_type": "code",
   "execution_count": null,
   "metadata": {},
   "outputs": [],
   "source": [
    "# Create line_item relationship\n",
    "create_line_item_res = gds.run_cypher('''\n",
    "    unwind $data as row\n",
    "    match (i:Invoice{id: row.InvoiceNo}), (p:Product{id: row.StockCode})\n",
    "    merge (p)-[li:line_item]->(i)\n",
    "        set li.qty = toInteger(row.Quantity)\n",
    "    return count(*) as line_item_rels_created\n",
    "''', params = {'data': df_line_item.to_dict('records')})\n",
    "create_line_item_res.head()"
   ]
  },
  {
   "attachments": {},
   "cell_type": "markdown",
   "metadata": {},
   "source": [
    "## Graph model so far\n",
    "![](./images/graph_model.png)"
   ]
  }
 ],
 "metadata": {
  "kernelspec": {
   "display_name": "Python 3.9.13 ('notebooks')",
   "language": "python",
   "name": "python3"
  },
  "language_info": {
   "codemirror_mode": {
    "name": "ipython",
    "version": 3
   },
   "file_extension": ".py",
   "mimetype": "text/x-python",
   "name": "python",
   "nbconvert_exporter": "python",
   "pygments_lexer": "ipython3",
   "version": "3.9.13"
  },
  "orig_nbformat": 4,
  "vscode": {
   "interpreter": {
    "hash": "c68434ca16130d73e64183f54aeda16ecffce872c062f16976fd0d983519d848"
   }
  }
 },
 "nbformat": 4,
 "nbformat_minor": 2
}
