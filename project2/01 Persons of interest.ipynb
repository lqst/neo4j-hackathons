{
 "cells": [
  {
   "attachments": {},
   "cell_type": "markdown",
   "metadata": {},
   "source": [
    "# Experiments with ICIJ Paradise Papers (Neo4j sandbox)"
   ]
  },
  {
   "cell_type": "markdown",
   "metadata": {},
   "source": [
    "## Setting up"
   ]
  },
  {
   "cell_type": "code",
   "execution_count": null,
   "metadata": {},
   "outputs": [],
   "source": [
    "%%capture\n",
    "%pip install graphdatascience pandas ipython"
   ]
  },
  {
   "cell_type": "code",
   "execution_count": null,
   "metadata": {},
   "outputs": [],
   "source": [
    "import pandas as pd\n",
    "from neo4j import GraphDatabase\n",
    "from graphdatascience import GraphDataScience"
   ]
  },
  {
   "cell_type": "code",
   "execution_count": null,
   "metadata": {},
   "outputs": [],
   "source": [
    "# Neo4j Sandbox Connection details\n",
    "DB_ULR = 'bolt://18.205.6.212:7687'\n",
    "DB_USER = 'neo4j'\n",
    "DB_PASS = 'passage-originator-merchant'\n",
    "gds = GraphDataScience.from_neo4j_driver(DB_ULR, auth=(DB_USER, DB_PASS))"
   ]
  },
  {
   "cell_type": "code",
   "execution_count": null,
   "metadata": {},
   "outputs": [],
   "source": [
    "# Increase the transaction time out, since we will do some long running transactions\n",
    "gds.run_cypher('call dbms.setConfigValue(\"dbms.transaction.timeout\",\"20m\")')"
   ]
  },
  {
   "cell_type": "markdown",
   "metadata": {},
   "source": [
    "## A subset of the \"Power players in the data\"\n",
    "https://offshoreleaks.icij.org/power-players"
   ]
  },
  {
   "cell_type": "code",
   "execution_count": null,
   "metadata": {},
   "outputs": [],
   "source": [
    "peps = [\n",
    "    'JEAN CHRÉTIEN',\n",
    "    'MUKHTAR ABLYAZOV',\n",
    "    'BEIBUT ATAMKULOV',\n",
    "    'HENRIQUE DE CAMPOS MEIRELLES',\n",
    "    'WESLEY K. CLARK',\n",
    "    'SHAUKAT AZIZ',\n",
    "    'ALEJANDRO GERTZ MANERO',\n",
    "    'ANTANAS GUOGA',\n",
    "    'HAKAINDE SAMMY HICHILEMA',\n",
    "    'RAVINDRA KISHORE (RK) SINHA',\n",
    "    'VALERIY VOSHCHEVSKY',\n",
    "    'SALLY KOSGEI',\n",
    "    'REX TILLERSON',\n",
    "    'PAUL MARTIN',\n",
    "    'ELLEN JOHNSON SIRLEAF',\n",
    "    'BRIAN MULRONEY',\n",
    "    'MUDHAR GHASSAN SHAWKAT',\n",
    "    'SAUAT MUKHAMETBAYEVICH MYNBAYEV',\n",
    "    'JAMES MEYER SASSOON',\n",
    "    'PRABOWO SUBIANTO',\n",
    "    'SAM KAHAMBA KUTESA',\n",
    "    'WILBUR LOUIS ROSS, JR.',\n",
    "    'PRINCE KHALED BIN SULTAN BIN ABDULAZIZ',   \n",
    "    'CARLOS QUINTANILLA SCHMIDT',\n",
    "    'ALFRED GUSENBAUER',\n",
    "    'YUKIO HATOYAMA',\n",
    "    'ANTON PRIGODSKY',\n",
    "    'PENNY PRITZKER',\n",
    "    'JOHN MAHAMA',\n",
    "    'BINALI YILDIRIM',\n",
    "    'SUHARTO',\n",
    "    'BASHAR AL-ASSAD',\n",
    "    'BLAIRO BORGES MAGGI',\n",
    "    'JAYANT SINHA',\n",
    "    'JUAN MANUEL SANTOS'\n",
    "]"
   ]
  },
  {
   "cell_type": "code",
   "execution_count": null,
   "metadata": {},
   "outputs": [],
   "source": [
    "# Create fulltext index\n",
    "gds.run_cypher('''\n",
    "    call db.index.fulltext.createNodeIndex('ftx_offshore',\n",
    "        ['Officer'],\n",
    "        ['name']\n",
    "    )\n",
    "''')\n"
   ]
  },
  {
   "cell_type": "code",
   "execution_count": null,
   "metadata": {},
   "outputs": [],
   "source": [
    "# Check index fully polulated\n",
    "gds.run_cypher('''call db.indexDetails('ftx_offshore') yield state, populationPercent''').head()"
   ]
  },
  {
   "cell_type": "code",
   "execution_count": null,
   "metadata": {},
   "outputs": [],
   "source": [
    "# Flag politically exposed persons (PEP)\n",
    "test = gds.run_cypher(''' \n",
    "    unwind $peps as pep\n",
    "    call db.index.fulltext.queryNodes('ftx_offshore', 'name: ' + pep + '',{limit:1}) yield node,score\n",
    "    with node, score, pep\n",
    "    set node:PEP\n",
    "    return pep, node.name as name, node.type as type, labels(node) as labels, score, id(node) as id    \n",
    "''', params = { 'peps': peps})\n",
    "test.head(40)"
   ]
  },
  {
   "cell_type": "markdown",
   "metadata": {},
   "source": []
  },
  {
   "cell_type": "markdown",
   "metadata": {},
   "source": [
    "## Who is who"
   ]
  },
  {
   "cell_type": "code",
   "execution_count": null,
   "metadata": {},
   "outputs": [],
   "source": [
    "companies = gds.run_cypher(''' \n",
    "    match path=(p:Officer)-[:OFFICER_OF|REGISTERED_ADDRESS]->(o)\n",
    "    where (o:Address or o:Entity) \n",
    "    and ( p.name contains \"Ltd.\" OR\n",
    "          p.name contains \"Limited\" OR\n",
    "          p.name contains \"Trust\" OR\n",
    "          p.name contains \"Investments\" OR\n",
    "          p.name contains \"Investments\" OR\n",
    "          p.name contains \"L.L.C.\" OR\n",
    "          p.name contains \"LIMITED\" OR\n",
    "          p.name contains \"Investors\" OR\n",
    "          p.name contains \"CORPORATE\" OR\n",
    "          p.name contains \"LTD.\" OR\n",
    "          p.name contains \"MANAGERS\" OR \n",
    "          p.name contains \"REGISTER\" \n",
    "        )\n",
    "    return distinct p.name limit 50\n",
    "''')\n",
    "companies.head(50)"
   ]
  },
  {
   "cell_type": "code",
   "execution_count": null,
   "metadata": {},
   "outputs": [],
   "source": [
    "# Label Officers as Companies\n",
    "gds.run_cypher(''' \n",
    "    match path=(p:Officer)-[:OFFICER_OF|REGISTERED_ADDRESS]->(o)\n",
    "    where (o:Address or o:Entity) \n",
    "    and ( p.name contains \"Ltd.\" OR\n",
    "          p.name contains \"Limited\" OR\n",
    "          p.name contains \"Trust\" OR\n",
    "          p.name contains \"Investments\" OR\n",
    "          p.name contains \"Investments\" OR\n",
    "          p.name contains \"L.L.C.\" OR\n",
    "          p.name contains \"LIMITED\" OR\n",
    "          p.name contains \"Investors\" OR\n",
    "          p.name contains \"CORPORATE\" OR\n",
    "          p.name contains \"LTD.\" OR\n",
    "          p.name contains \"MANAGERS\" OR \n",
    "          p.name contains \"REGISTER\" \n",
    "        )\n",
    "    with distinct p\n",
    "    set p:Company remove p:Person\n",
    "''')"
   ]
  },
  {
   "cell_type": "code",
   "execution_count": null,
   "metadata": {},
   "outputs": [],
   "source": [
    "# Label Officers that ar not labeled Company with Person\n",
    "gds.run_cypher(''' \n",
    "    match (p:Officer)\n",
    "    where not p:Company \n",
    "    set p:Person\n",
    "''')"
   ]
  },
  {
   "cell_type": "code",
   "execution_count": null,
   "metadata": {},
   "outputs": [],
   "source": [
    "# Check what we have\n",
    "gds.run_cypher(''' \n",
    "    match (p:Officer)\n",
    "    return labels(p), count(*)\n",
    "''').head(10)\n"
   ]
  },
  {
   "cell_type": "markdown",
   "metadata": {},
   "source": [
    "## Playground"
   ]
  },
  {
   "cell_type": "code",
   "execution_count": null,
   "metadata": {},
   "outputs": [],
   "source": [
    "# Check what outgoing rels we have for Persons\n",
    "# Why? Node similarity expects a directed graph\n",
    "gds.run_cypher(''' \n",
    "    match p=(:Person)-[r]->()\n",
    "    return type(r), count(*)\n",
    "''').head(10)\n",
    "\n",
    "# Note: Explore the \"CONNECTED_TO\" relationships!"
   ]
  },
  {
   "cell_type": "code",
   "execution_count": null,
   "metadata": {},
   "outputs": [],
   "source": [
    "# Cleanup\n",
    "gds.run_cypher(''' \n",
    "    match (:Person)-[a:AFFILIATED]->()\n",
    "    call {\n",
    "        with a\n",
    "        delete a\n",
    "    } in transactions of 5000 rows\n",
    "''')\n",
    "gds.run_cypher(''' \n",
    "    match (:Person)-[a:STAKEHOLDER]->()\n",
    "    call {\n",
    "        with a\n",
    "        delete a\n",
    "    } in transactions of 5000 rows\n",
    "''')\n",
    "gds.run_cypher(''' \n",
    "    match (:Person)-[a:LIVES_AT]->()\n",
    "    call {\n",
    "        with a\n",
    "        delete a\n",
    "    } in transactions of 5000 rows\n",
    "    \n",
    "''')"
   ]
  },
  {
   "cell_type": "code",
   "execution_count": null,
   "metadata": {},
   "outputs": [],
   "source": [
    "# Prep: To focus on persons, let's say they are STAKEHOLDER's and LIVES_AT\n",
    "# (i.e. avoid similarity to be computed between Companies)\n",
    "gds.run_cypher(''' \n",
    "    match (p:Person)-[:OFFICER_OF]->(c)\n",
    "    call {\n",
    "        with p,c\n",
    "        merge (p)-[:STAKEHOLDER]->(c)\n",
    "    } in transactions of 5000 rows\n",
    "''')\n",
    "gds.run_cypher(''' \n",
    "    match (p:Person)-[:REGISTERED_ADDRESS]->(c)\n",
    "    call {\n",
    "        with p,c\n",
    "        merge (p)-[:LIVES_AT]->(c)\n",
    "    } in transactions of 5000 rows\n",
    "''')"
   ]
  },
  {
   "cell_type": "code",
   "execution_count": null,
   "metadata": {},
   "outputs": [],
   "source": [
    "G, project_stats = gds.graph.project(\n",
    "    'test', \n",
    "    node_spec=['Person','Company','Entity','Intermediary'], \n",
    "    relationship_spec=['STAKEHOLDER','LIVES_AT']\n",
    ")"
   ]
  },
  {
   "cell_type": "code",
   "execution_count": null,
   "metadata": {},
   "outputs": [],
   "source": [
    "project_stats"
   ]
  },
  {
   "cell_type": "code",
   "execution_count": null,
   "metadata": {},
   "outputs": [],
   "source": [
    "# This is how we would estimate how much resources it takes to run\n",
    "# an algorithm in a specific mode (stats, write, mutate).\n",
    "# We don't have to do it, it is done behind the scenes when using the gds client\n",
    "estimate = gds.nodeSimilarity.stats.estimate(G)\n",
    "sysinfo = gds.debug.sysInfo()\n",
    "assert sysinfo[ sysinfo[\"key\"] == \"heapTotalInBytes\" ][\"value\"].values[0] > estimate.bytesMin"
   ]
  },
  {
   "cell_type": "code",
   "execution_count": null,
   "metadata": {},
   "outputs": [],
   "source": [
    "ns_stats = gds.nodeSimilarity.stats(G,\n",
    "    similarityCutoff = 0.6,\n",
    "    degreeCutoff = 2,\n",
    "    topK = 3\n",
    ")"
   ]
  },
  {
   "cell_type": "code",
   "execution_count": null,
   "metadata": {},
   "outputs": [],
   "source": [
    "ns_stats.similarityDistribution"
   ]
  },
  {
   "cell_type": "code",
   "execution_count": null,
   "metadata": {},
   "outputs": [],
   "source": [
    "gds.nodeSimilarity.write(G,\n",
    "    similarityCutoff = 0.6,\n",
    "    degreeCutoff = 2,\n",
    "    topK = 3,\n",
    "    writeRelationshipType = 'AFFILIATED',\n",
    "    writeProperty = 'score'\n",
    ")"
   ]
  },
  {
   "cell_type": "code",
   "execution_count": null,
   "metadata": {},
   "outputs": [],
   "source": [
    "# Clean up\n",
    "G = gds.graph.get('test') # Get our graph projection in case we accidently lost G\n",
    "G.drop() # Drop it from the graph catalogue to release memory allocation"
   ]
  },
  {
   "cell_type": "code",
   "execution_count": null,
   "metadata": {},
   "outputs": [],
   "source": [
    "gds.run_cypher(''' \n",
    "    MATCH (p:Person)-[a:AFFILIATED]->(o)\n",
    "    return p.name as pep, o.name as affilated_with, a.score as score limit 10\n",
    "''').head(10)\n"
   ]
  },
  {
   "cell_type": "code",
   "execution_count": null,
   "metadata": {},
   "outputs": [],
   "source": [
    "# Delete any symmetric relationships\n",
    "gds.run_cypher(''' \n",
    "    match (p:Person)-[a:AFFILIATED]->(o)\n",
    "    where exists { (p)<-[:AFFILIATED]-(o) }\n",
    "    delete a\n",
    "    return count(*) as numberOfRelsDeleted\n",
    "''').head(1)"
   ]
  },
  {
   "cell_type": "markdown",
   "metadata": {},
   "source": [
    "## Excerciese\n",
    "\n",
    "Explore the `(:Person)-[:AFFILIATED]-(:Person)` network\n",
    "- Communities?\n",
    "- Central, important or influencial Persons?"
   ]
  },
  {
   "cell_type": "markdown",
   "metadata": {},
   "source": [
    "## Excerciese\n",
    "\n",
    "Merge nodes if they have th e same id\n",
    "```\n",
    "MATCH p=()-[r:SAME_ID_AS]->() RETURN p LIMIT 25\n",
    "```\n",
    "Use apoc to merge nodes and keep relationships\n"
   ]
  },
  {
   "cell_type": "markdown",
   "metadata": {},
   "source": []
  }
 ],
 "metadata": {
  "kernelspec": {
   "display_name": "Python 3.9.13 ('notebooks')",
   "language": "python",
   "name": "python3"
  },
  "language_info": {
   "codemirror_mode": {
    "name": "ipython",
    "version": 3
   },
   "file_extension": ".py",
   "mimetype": "text/x-python",
   "name": "python",
   "nbconvert_exporter": "python",
   "pygments_lexer": "ipython3",
   "version": "3.9.13 | packaged by conda-forge | (main, May 27 2022, 17:00:33) \n[Clang 13.0.1 ]"
  },
  "orig_nbformat": 4,
  "vscode": {
   "interpreter": {
    "hash": "c68434ca16130d73e64183f54aeda16ecffce872c062f16976fd0d983519d848"
   }
  }
 },
 "nbformat": 4,
 "nbformat_minor": 2
}
