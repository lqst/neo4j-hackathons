{
 "cells": [
  {
   "cell_type": "markdown",
   "metadata": {},
   "source": [
    "# Experiments on ICIJ Paradise Papers (Neo4j sandbox)"
   ]
  },
  {
   "cell_type": "markdown",
   "metadata": {},
   "source": [
    "## Setting up"
   ]
  },
  {
   "cell_type": "code",
   "execution_count": 1,
   "metadata": {},
   "outputs": [],
   "source": [
    "%%capture\n",
    "%pip install graphdatascience pandas ipython"
   ]
  },
  {
   "cell_type": "code",
   "execution_count": 2,
   "metadata": {},
   "outputs": [],
   "source": [
    "import pandas as pd\n",
    "from neo4j import GraphDatabase\n",
    "from graphdatascience import GraphDataScience"
   ]
  },
  {
   "cell_type": "code",
   "execution_count": 3,
   "metadata": {},
   "outputs": [],
   "source": [
    "# Neo4j Sandbox Connection details\n",
    "DB_ULR = 'bolt://3.237.238.94:7687'\n",
    "DB_USER = 'neo4j'\n",
    "DB_PASS = 'knives-swords-cloths'\n",
    "gds = GraphDataScience.from_neo4j_driver(DB_ULR, auth=(DB_USER, DB_PASS))"
   ]
  },
  {
   "cell_type": "markdown",
   "metadata": {},
   "source": [
    "## A subset of the \"Power players in the data\"\n",
    "https://offshoreleaks.icij.org/power-players"
   ]
  },
  {
   "cell_type": "code",
   "execution_count": null,
   "metadata": {},
   "outputs": [],
   "source": [
    "peps = [\n",
    "    'JEAN CHRÉTIEN',\n",
    "    'MUKHTAR ABLYAZOV',\n",
    "    'BEIBUT ATAMKULOV',\n",
    "    'HENRIQUE DE CAMPOS MEIRELLES',\n",
    "    'WESLEY K. CLARK',\n",
    "    'SHAUKAT AZIZ',\n",
    "    'ALEJANDRO GERTZ MANERO',\n",
    "    'ANTANAS GUOGA',\n",
    "    'HAKAINDE SAMMY HICHILEMA',\n",
    "    'RAVINDRA KISHORE (RK) SINHA',\n",
    "    'VALERIY VOSHCHEVSKY',\n",
    "    'SALLY KOSGEI',\n",
    "    'REX TILLERSON',\n",
    "    'PAUL MARTIN',\n",
    "    'ELLEN JOHNSON SIRLEAF',\n",
    "    'BRIAN MULRONEY',\n",
    "    'MUDHAR GHASSAN SHAWKAT',\n",
    "    'SAUAT MUKHAMETBAYEVICH MYNBAYEV',\n",
    "    'JAMES MEYER SASSOON',\n",
    "    'PRABOWO SUBIANTO',\n",
    "    'SAM KAHAMBA KUTESA',\n",
    "    'WILBUR LOUIS ROSS, JR.',\n",
    "    'PRINCE KHALED BIN SULTAN BIN ABDULAZIZ',   \n",
    "    'CARLOS QUINTANILLA SCHMIDT',\n",
    "    'ALFRED GUSENBAUER',\n",
    "    'YUKIO HATOYAMA',\n",
    "    'ANTON PRIGODSKY',\n",
    "    'PENNY PRITZKER',\n",
    "    'JOHN MAHAMA',\n",
    "    'BINALI YILDIRIM',\n",
    "    'SUHARTO',\n",
    "    'BASHAR AL-ASSAD',\n",
    "    'BLAIRO BORGES MAGGI',\n",
    "    'JAYANT SINHA',\n",
    "    'JUAN MANUEL SANTOS'\n",
    "]"
   ]
  },
  {
   "cell_type": "code",
   "execution_count": null,
   "metadata": {},
   "outputs": [],
   "source": [
    "# Create fulltext index\n",
    "gds.run_cypher('''\n",
    "    call db.index.fulltext.createNodeIndex('ftx_offshore',\n",
    "        ['Officer'],\n",
    "        ['name']\n",
    "    )\n",
    "''')\n"
   ]
  },
  {
   "cell_type": "code",
   "execution_count": null,
   "metadata": {},
   "outputs": [],
   "source": [
    "# Check index fully polulated\n",
    "gds.run_cypher('''call db.indexDetails('ftx_offshore') yield state, populationPercent''').head()"
   ]
  },
  {
   "cell_type": "code",
   "execution_count": null,
   "metadata": {},
   "outputs": [],
   "source": [
    "# Flag politically exposed persons (PEP)\n",
    "test = gds.run_cypher(''' \n",
    "    unwind $peps as pep\n",
    "    call db.index.fulltext.queryNodes('ftx_offshore', 'name: ' + pep + '',{limit:1}) yield node,score\n",
    "    with node, score, pep\n",
    "    set node:PEP\n",
    "    return pep, node.name as name, node.type as type, labels(node) as labels, score, id(node) as id    \n",
    "''', params = { 'peps': peps})\n",
    "test.head(40)"
   ]
  },
  {
   "cell_type": "markdown",
   "metadata": {},
   "source": [
    "## Who is who"
   ]
  },
  {
   "cell_type": "code",
   "execution_count": null,
   "metadata": {},
   "outputs": [],
   "source": [
    "companies = gds.run_cypher(''' \n",
    "    MATCH path=(p:Officer)-[:OFFICER_OF|REGISTERED_ADDRESS]->(o)\n",
    "    where (o:Address or o:Entity) \n",
    "    and ( p.name contains \"Ltd.\" OR\n",
    "          p.name contains \"Limited\" OR\n",
    "          p.name contains \"Trust\" OR\n",
    "          p.name contains \"Investments\" OR\n",
    "          p.name contains \"Investments\" OR\n",
    "          p.name contains \"L.L.C.\" OR\n",
    "          p.name contains \"LIMITED\" OR\n",
    "          p.name contains \"Investors\"\n",
    "        )\n",
    "    return distinct p.name limit 50999\n",
    "''')\n",
    "companies.head(50)"
   ]
  },
  {
   "cell_type": "code",
   "execution_count": 41,
   "metadata": {},
   "outputs": [
    {
     "data": {
      "text/html": [
       "<div>\n",
       "<style scoped>\n",
       "    .dataframe tbody tr th:only-of-type {\n",
       "        vertical-align: middle;\n",
       "    }\n",
       "\n",
       "    .dataframe tbody tr th {\n",
       "        vertical-align: top;\n",
       "    }\n",
       "\n",
       "    .dataframe thead th {\n",
       "        text-align: right;\n",
       "    }\n",
       "</style>\n",
       "<table border=\"1\" class=\"dataframe\">\n",
       "  <thead>\n",
       "    <tr style=\"text-align: right;\">\n",
       "      <th></th>\n",
       "    </tr>\n",
       "  </thead>\n",
       "  <tbody>\n",
       "  </tbody>\n",
       "</table>\n",
       "</div>"
      ],
      "text/plain": [
       "Empty DataFrame\n",
       "Columns: []\n",
       "Index: []"
      ]
     },
     "execution_count": 41,
     "metadata": {},
     "output_type": "execute_result"
    }
   ],
   "source": [
    "# Label Officers as Companies\n",
    "gds.run_cypher(''' \n",
    "    MATCH path=(p:Officer)-[:OFFICER_OF|REGISTERED_ADDRESS]->(o)\n",
    "    where (o:Address or o:Entity) \n",
    "    and ( p.name contains \"Ltd.\" OR\n",
    "          p.name contains \"Limited\" OR\n",
    "          p.name contains \"Trust\" OR\n",
    "          p.name contains \"Investments\" OR\n",
    "          p.name contains \"Investments\" OR\n",
    "          p.name contains \"L.L.C.\" OR\n",
    "          p.name contains \"LIMITED\" OR\n",
    "          p.name contains \"Investors\" OR\n",
    "          p.name contains \"CORPORATE\" OR\n",
    "          p.name contains \"LTD.\" OR\n",
    "          p.name contains \"MANAGERS\" OR \n",
    "          p.name contains \"REGISTER\" \n",
    "        )\n",
    "    with distinct p\n",
    "    set p:Company remove p:Person\n",
    "''')"
   ]
  },
  {
   "cell_type": "code",
   "execution_count": 42,
   "metadata": {},
   "outputs": [
    {
     "data": {
      "text/html": [
       "<div>\n",
       "<style scoped>\n",
       "    .dataframe tbody tr th:only-of-type {\n",
       "        vertical-align: middle;\n",
       "    }\n",
       "\n",
       "    .dataframe tbody tr th {\n",
       "        vertical-align: top;\n",
       "    }\n",
       "\n",
       "    .dataframe thead th {\n",
       "        text-align: right;\n",
       "    }\n",
       "</style>\n",
       "<table border=\"1\" class=\"dataframe\">\n",
       "  <thead>\n",
       "    <tr style=\"text-align: right;\">\n",
       "      <th></th>\n",
       "    </tr>\n",
       "  </thead>\n",
       "  <tbody>\n",
       "  </tbody>\n",
       "</table>\n",
       "</div>"
      ],
      "text/plain": [
       "Empty DataFrame\n",
       "Columns: []\n",
       "Index: []"
      ]
     },
     "execution_count": 42,
     "metadata": {},
     "output_type": "execute_result"
    }
   ],
   "source": [
    "# Label Officers that ar not labeled Company with Person\n",
    "gds.run_cypher(''' \n",
    "    MATCH (p:Officer)\n",
    "    where not p:Company \n",
    "    set p:Person\n",
    "''')"
   ]
  },
  {
   "cell_type": "code",
   "execution_count": null,
   "metadata": {},
   "outputs": [],
   "source": [
    "# Check what we have\n",
    "gds.run_cypher(''' \n",
    "    MATCH (p:Officer)\n",
    "    return labels(p), count(*)\n",
    "''').head(10)\n"
   ]
  },
  {
   "cell_type": "markdown",
   "metadata": {},
   "source": [
    "## Playground"
   ]
  },
  {
   "cell_type": "code",
   "execution_count": null,
   "metadata": {},
   "outputs": [],
   "source": [
    "# Check what outgoing rels we have for Persons\n",
    "# Why? Node similarity expects a directed graph\n",
    "gds.run_cypher(''' \n",
    "    MATCH p=(:Person)-[r]->()\n",
    "    return type(r), count(*)\n",
    "''').head(10)\n",
    "\n",
    "# Note: Explore the \"CONNECTED_TO\" relationships!"
   ]
  },
  {
   "cell_type": "code",
   "execution_count": 43,
   "metadata": {},
   "outputs": [
    {
     "data": {
      "text/html": [
       "<div>\n",
       "<style scoped>\n",
       "    .dataframe tbody tr th:only-of-type {\n",
       "        vertical-align: middle;\n",
       "    }\n",
       "\n",
       "    .dataframe tbody tr th {\n",
       "        vertical-align: top;\n",
       "    }\n",
       "\n",
       "    .dataframe thead th {\n",
       "        text-align: right;\n",
       "    }\n",
       "</style>\n",
       "<table border=\"1\" class=\"dataframe\">\n",
       "  <thead>\n",
       "    <tr style=\"text-align: right;\">\n",
       "      <th></th>\n",
       "    </tr>\n",
       "  </thead>\n",
       "  <tbody>\n",
       "  </tbody>\n",
       "</table>\n",
       "</div>"
      ],
      "text/plain": [
       "Empty DataFrame\n",
       "Columns: []\n",
       "Index: []"
      ]
     },
     "execution_count": 43,
     "metadata": {},
     "output_type": "execute_result"
    }
   ],
   "source": [
    "# Cleanup\n",
    "gds.run_cypher(''' \n",
    "    MATCH ()-[a:AFFILIATED]->()\n",
    "    call {\n",
    "        with a\n",
    "        delete a\n",
    "    } in transactions of 5000 rows\n",
    "''')\n",
    "gds.run_cypher(''' \n",
    "    MATCH ()-[a:STAKEHOLDER]->()\n",
    "    call {\n",
    "        with a\n",
    "        delete a\n",
    "    } in transactions of 5000 rows\n",
    "''')\n",
    "gds.run_cypher(''' \n",
    "    MATCH ()-[a:LIVES_AT]->()\n",
    "    call {\n",
    "        with a\n",
    "        delete a\n",
    "    } in transactions of 5000 rows\n",
    "    \n",
    "''')"
   ]
  },
  {
   "cell_type": "code",
   "execution_count": 44,
   "metadata": {},
   "outputs": [
    {
     "data": {
      "text/html": [
       "<div>\n",
       "<style scoped>\n",
       "    .dataframe tbody tr th:only-of-type {\n",
       "        vertical-align: middle;\n",
       "    }\n",
       "\n",
       "    .dataframe tbody tr th {\n",
       "        vertical-align: top;\n",
       "    }\n",
       "\n",
       "    .dataframe thead th {\n",
       "        text-align: right;\n",
       "    }\n",
       "</style>\n",
       "<table border=\"1\" class=\"dataframe\">\n",
       "  <thead>\n",
       "    <tr style=\"text-align: right;\">\n",
       "      <th></th>\n",
       "    </tr>\n",
       "  </thead>\n",
       "  <tbody>\n",
       "  </tbody>\n",
       "</table>\n",
       "</div>"
      ],
      "text/plain": [
       "Empty DataFrame\n",
       "Columns: []\n",
       "Index: []"
      ]
     },
     "execution_count": 44,
     "metadata": {},
     "output_type": "execute_result"
    }
   ],
   "source": [
    "# Prep: To focus on persons, let's say they are STAKEHOLDER's and LIVES_AT\n",
    "# (i.e. avoid similarity to be computed between Companies)\n",
    "gds.run_cypher(''' \n",
    "    match (p:Person)-[:OFFICER_OF]->(c)\n",
    "    call {\n",
    "        with p,c\n",
    "        merge (p)-[:STAKEHOLDER]->(c)\n",
    "    } in transactions of 5000 rows\n",
    "''')\n",
    "gds.run_cypher(''' \n",
    "    match (p:Person)-[:REGISTERED_ADDRESS]->(c)\n",
    "    call {\n",
    "        with p,c\n",
    "        merge (p)-[:LIVES_AT]->(c)\n",
    "    } in transactions of 5000 rows\n",
    "''')"
   ]
  },
  {
   "cell_type": "code",
   "execution_count": 45,
   "metadata": {},
   "outputs": [
    {
     "data": {
      "application/vnd.jupyter.widget-view+json": {
       "model_id": "034b7d1b9c0f4e7499672ea40ae03521",
       "version_major": 2,
       "version_minor": 0
      },
      "text/plain": [
       "Loading:   0%|          | 0/100 [00:00<?, ?%/s]"
      ]
     },
     "metadata": {},
     "output_type": "display_data"
    }
   ],
   "source": [
    "G, project_stats = gds.graph.project(\n",
    "    'test', \n",
    "    node_spec=['Person','Company','Entity','Intermediary'], \n",
    "    relationship_spec=['STAKEHOLDER','LIVES_AT']\n",
    ")"
   ]
  },
  {
   "cell_type": "code",
   "execution_count": 46,
   "metadata": {},
   "outputs": [
    {
     "data": {
      "text/plain": [
       "nodeProjection            {'Entity': {'label': 'Entity', 'properties': {...\n",
       "relationshipProjection    {'STAKEHOLDER': {'orientation': 'NATURAL', 'ag...\n",
       "graphName                                                              test\n",
       "nodeCount                                                            104000\n",
       "relationshipCount                                                    140835\n",
       "projectMillis                                                           816\n",
       "Name: 0, dtype: object"
      ]
     },
     "execution_count": 46,
     "metadata": {},
     "output_type": "execute_result"
    }
   ],
   "source": [
    "project_stats"
   ]
  },
  {
   "cell_type": "code",
   "execution_count": 7,
   "metadata": {},
   "outputs": [],
   "source": [
    "estimate = gds.nodeSimilarity.stats.estimate(G)\n",
    "sysinfo = gds.debug.sysInfo()\n",
    "assert sysinfo[ sysinfo[\"key\"] == \"heapTotalInBytes\" ][\"value\"].values[0] > estimate.bytesMin"
   ]
  },
  {
   "cell_type": "code",
   "execution_count": 51,
   "metadata": {},
   "outputs": [
    {
     "data": {
      "text/html": [
       "<div>\n",
       "<style scoped>\n",
       "    .dataframe tbody tr th:only-of-type {\n",
       "        vertical-align: middle;\n",
       "    }\n",
       "\n",
       "    .dataframe tbody tr th {\n",
       "        vertical-align: top;\n",
       "    }\n",
       "\n",
       "    .dataframe thead th {\n",
       "        text-align: right;\n",
       "    }\n",
       "</style>\n",
       "<table border=\"1\" class=\"dataframe\">\n",
       "  <thead>\n",
       "    <tr style=\"text-align: right;\">\n",
       "      <th></th>\n",
       "    </tr>\n",
       "  </thead>\n",
       "  <tbody>\n",
       "  </tbody>\n",
       "</table>\n",
       "</div>"
      ],
      "text/plain": [
       "Empty DataFrame\n",
       "Columns: []\n",
       "Index: []"
      ]
     },
     "execution_count": 51,
     "metadata": {},
     "output_type": "execute_result"
    }
   ],
   "source": [
    "gds.run_cypher('call dbms.setConfigValue(\"dbms.transaction.timeout\",\"20m\")')"
   ]
  },
  {
   "cell_type": "code",
   "execution_count": 34,
   "metadata": {},
   "outputs": [
    {
     "data": {
      "application/vnd.jupyter.widget-view+json": {
       "model_id": "bf42e5cae6554a5dbe8b7281cf6b28f9",
       "version_major": 2,
       "version_minor": 0
      },
      "text/plain": [
       "NodeSimilarity:   0%|          | 0/100 [00:00<?, ?%/s]"
      ]
     },
     "metadata": {},
     "output_type": "display_data"
    }
   ],
   "source": [
    "ns_stats = gds.nodeSimilarity.stats(G,\n",
    "    similarityCutoff = 0.6,\n",
    "    degreeCutoff = 2,\n",
    "    topK = 3\n",
    ")"
   ]
  },
  {
   "cell_type": "code",
   "execution_count": 21,
   "metadata": {},
   "outputs": [
    {
     "data": {
      "text/plain": [
       "{'p1': 0.5999984741210938,\n",
       " 'max': 1.0000038146972656,\n",
       " 'p5': 0.6666641235351562,\n",
       " 'p90': 1.0000038146972656,\n",
       " 'p50': 1.0000038146972656,\n",
       " 'p95': 1.0000038146972656,\n",
       " 'p10': 0.6666641235351562,\n",
       " 'p75': 1.0000038146972656,\n",
       " 'p99': 1.0000038146972656,\n",
       " 'p25': 0.7777748107910156,\n",
       " 'p100': 1.0000038146972656,\n",
       " 'min': 0.5999984741210938,\n",
       " 'mean': 0.9081031645172395,\n",
       " 'stdDev': 0.1414988467536248}"
      ]
     },
     "execution_count": 21,
     "metadata": {},
     "output_type": "execute_result"
    }
   ],
   "source": [
    "ns_stats.similarityDistribution"
   ]
  },
  {
   "cell_type": "code",
   "execution_count": 47,
   "metadata": {},
   "outputs": [
    {
     "data": {
      "application/vnd.jupyter.widget-view+json": {
       "model_id": "ba246ac47f2540fd92a32d68cb6450a9",
       "version_major": 2,
       "version_minor": 0
      },
      "text/plain": [
       "NodeSimilarity:   0%|          | 0/100 [00:00<?, ?%/s]"
      ]
     },
     "metadata": {},
     "output_type": "display_data"
    },
    {
     "data": {
      "text/plain": [
       "preProcessingMillis                                                       0\n",
       "computeMillis                                                         48907\n",
       "writeMillis                                                            2419\n",
       "postProcessingMillis                                                     -1\n",
       "nodesCompared                                                         15380\n",
       "relationshipsWritten                                                  25760\n",
       "similarityDistribution    {'p1': 0.5999984741210938, 'max': 1.0000038146...\n",
       "configuration             {'topK': 3, 'writeConcurrency': 4, 'similarity...\n",
       "Name: 0, dtype: object"
      ]
     },
     "execution_count": 47,
     "metadata": {},
     "output_type": "execute_result"
    }
   ],
   "source": [
    "gds.nodeSimilarity.write(G,\n",
    "    similarityCutoff = 0.6,\n",
    "    degreeCutoff = 2,\n",
    "    topK = 3,\n",
    "    writeRelationshipType = 'AFFILIATED',\n",
    "    writeProperty = 'score'\n",
    ")"
   ]
  },
  {
   "cell_type": "code",
   "execution_count": 48,
   "metadata": {},
   "outputs": [
    {
     "data": {
      "text/plain": [
       "graphName                                                         test\n",
       "database                                                         neo4j\n",
       "memoryUsage                                                           \n",
       "sizeInBytes                                                         -1\n",
       "nodeCount                                                       104000\n",
       "relationshipCount                                               140835\n",
       "configuration        {'relationshipProjection': {'STAKEHOLDER': {'o...\n",
       "density                                                       0.000013\n",
       "creationTime                       2022-11-01T12:00:34.389781000+00:00\n",
       "modificationTime                   2022-11-01T12:00:35.246972000+00:00\n",
       "schema               {'graphProperties': {}, 'relationships': {'STA...\n",
       "Name: 0, dtype: object"
      ]
     },
     "execution_count": 48,
     "metadata": {},
     "output_type": "execute_result"
    }
   ],
   "source": [
    "# Clean up\n",
    "G = gds.graph.get('test') # Get our graph projection in case we accidently lost G\n",
    "G.drop() # Drop it from the graph catalogue to release memory allocation"
   ]
  },
  {
   "cell_type": "code",
   "execution_count": 50,
   "metadata": {},
   "outputs": [
    {
     "data": {
      "text/html": [
       "<div>\n",
       "<style scoped>\n",
       "    .dataframe tbody tr th:only-of-type {\n",
       "        vertical-align: middle;\n",
       "    }\n",
       "\n",
       "    .dataframe tbody tr th {\n",
       "        vertical-align: top;\n",
       "    }\n",
       "\n",
       "    .dataframe thead th {\n",
       "        text-align: right;\n",
       "    }\n",
       "</style>\n",
       "<table border=\"1\" class=\"dataframe\">\n",
       "  <thead>\n",
       "    <tr style=\"text-align: right;\">\n",
       "      <th></th>\n",
       "      <th>pep</th>\n",
       "      <th>affilated_with</th>\n",
       "      <th>score</th>\n",
       "    </tr>\n",
       "  </thead>\n",
       "  <tbody>\n",
       "    <tr>\n",
       "      <th>0</th>\n",
       "      <td>Pliska - Bernard F.</td>\n",
       "      <td>NIKE Elevate C.V.</td>\n",
       "      <td>0.666667</td>\n",
       "    </tr>\n",
       "    <tr>\n",
       "      <th>1</th>\n",
       "      <td>Pliska - Bernard F.</td>\n",
       "      <td>Carter - James Cecil</td>\n",
       "      <td>0.666667</td>\n",
       "    </tr>\n",
       "    <tr>\n",
       "      <th>2</th>\n",
       "      <td>Plotkin - Roger B.</td>\n",
       "      <td>Weiss - John A.</td>\n",
       "      <td>1.000000</td>\n",
       "    </tr>\n",
       "    <tr>\n",
       "      <th>3</th>\n",
       "      <td>Plotkin - Roger B.</td>\n",
       "      <td>May - William H.</td>\n",
       "      <td>1.000000</td>\n",
       "    </tr>\n",
       "    <tr>\n",
       "      <th>4</th>\n",
       "      <td>Plotkin - Roger B.</td>\n",
       "      <td>Widergren - James F.</td>\n",
       "      <td>1.000000</td>\n",
       "    </tr>\n",
       "    <tr>\n",
       "      <th>5</th>\n",
       "      <td>Pocius - Victor F</td>\n",
       "      <td>Kane - Thomas P</td>\n",
       "      <td>0.666667</td>\n",
       "    </tr>\n",
       "    <tr>\n",
       "      <th>6</th>\n",
       "      <td>Pocius - Victor F</td>\n",
       "      <td>Hedley - Nicholas</td>\n",
       "      <td>1.000000</td>\n",
       "    </tr>\n",
       "    <tr>\n",
       "      <th>7</th>\n",
       "      <td>Pogue - Charles M</td>\n",
       "      <td>Imle - John F.</td>\n",
       "      <td>0.739130</td>\n",
       "    </tr>\n",
       "    <tr>\n",
       "      <th>8</th>\n",
       "      <td>Pogue - Charles M</td>\n",
       "      <td>Laughbaum - Graydon H.</td>\n",
       "      <td>0.690476</td>\n",
       "    </tr>\n",
       "    <tr>\n",
       "      <th>9</th>\n",
       "      <td>Pogue - Charles M</td>\n",
       "      <td>Fawthrop - Andrew L</td>\n",
       "      <td>0.779070</td>\n",
       "    </tr>\n",
       "  </tbody>\n",
       "</table>\n",
       "</div>"
      ],
      "text/plain": [
       "                   pep          affilated_with     score\n",
       "0  Pliska - Bernard F.       NIKE Elevate C.V.  0.666667\n",
       "1  Pliska - Bernard F.    Carter - James Cecil  0.666667\n",
       "2   Plotkin - Roger B.         Weiss - John A.  1.000000\n",
       "3   Plotkin - Roger B.        May - William H.  1.000000\n",
       "4   Plotkin - Roger B.    Widergren - James F.  1.000000\n",
       "5    Pocius - Victor F         Kane - Thomas P  0.666667\n",
       "6    Pocius - Victor F       Hedley - Nicholas  1.000000\n",
       "7    Pogue - Charles M          Imle - John F.  0.739130\n",
       "8    Pogue - Charles M  Laughbaum - Graydon H.  0.690476\n",
       "9    Pogue - Charles M     Fawthrop - Andrew L  0.779070"
      ]
     },
     "execution_count": 50,
     "metadata": {},
     "output_type": "execute_result"
    }
   ],
   "source": [
    "gds.run_cypher(''' \n",
    "    MATCH (p:Person)-[a:AFFILIATED]->(o)\n",
    "    return p.name as pep, o.name as affilated_with, a.score as score limit 10\n",
    "''').head(10)\n"
   ]
  },
  {
   "cell_type": "markdown",
   "metadata": {},
   "source": [
    "## Excerciese\n",
    "\n",
    "Merge nodes if they have the same id\n",
    "```\n",
    "MATCH p=()-[r:SAME_ID_AS]->() RETURN p LIMIT 25\n",
    "```\n",
    "Use apoc to merge nodes and keep relationships\n"
   ]
  },
  {
   "cell_type": "markdown",
   "metadata": {},
   "source": []
  }
 ],
 "metadata": {
  "kernelspec": {
   "display_name": "Python 3.9.13 ('notebooks')",
   "language": "python",
   "name": "python3"
  },
  "language_info": {
   "codemirror_mode": {
    "name": "ipython",
    "version": 3
   },
   "file_extension": ".py",
   "mimetype": "text/x-python",
   "name": "python",
   "nbconvert_exporter": "python",
   "pygments_lexer": "ipython3",
   "version": "3.9.13"
  },
  "orig_nbformat": 4,
  "vscode": {
   "interpreter": {
    "hash": "c68434ca16130d73e64183f54aeda16ecffce872c062f16976fd0d983519d848"
   }
  }
 },
 "nbformat": 4,
 "nbformat_minor": 2
}
