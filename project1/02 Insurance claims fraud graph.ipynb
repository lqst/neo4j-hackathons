{
 "cells": [
  {
   "cell_type": "markdown",
   "metadata": {},
   "source": [
    "# Insurance Claims Fraud Graph\n",
    "Purpose of this module is to learn how to build your first graph from scratch"
   ]
  },
  {
   "cell_type": "markdown",
   "metadata": {},
   "source": [
    "## Install packages"
   ]
  },
  {
   "cell_type": "code",
   "execution_count": null,
   "metadata": {},
   "outputs": [],
   "source": [
    "!%pip install graphdatascience pandas"
   ]
  },
  {
   "cell_type": "code",
   "execution_count": null,
   "metadata": {},
   "outputs": [],
   "source": [
    "import pandas as pd\n",
    "from graphdatascience import GraphDataScience"
   ]
  },
  {
   "cell_type": "code",
   "execution_count": null,
   "metadata": {},
   "outputs": [],
   "source": [
    "DB_ULR = \"neo4j://localhost:7687\"\n",
    "DB_USER = \"neo4j\"\n",
    "DB_PASS = \"test1234\"\n",
    "DB_NAME = \"neo4j\"\n",
    "gds = GraphDataScience(DB_ULR, auth=(DB_USER, DB_PASS))"
   ]
  },
  {
   "cell_type": "markdown",
   "metadata": {},
   "source": [
    "## Data set\n",
    "Insurance Calims Fraud Data https://www.kaggle.com/datasets/mastmustu/insurance-claims-fraud-data\n",
    "\n"
   ]
  },
  {
   "cell_type": "code",
   "execution_count": null,
   "metadata": {},
   "outputs": [],
   "source": [
    "# This file contains data on the Employees/Agent who are working on the Insurance Claim\n",
    "employee_csv = pd.read_csv(\"./datasets/employee_data.csv\")\n",
    "employee_csv.head()"
   ]
  },
  {
   "cell_type": "code",
   "execution_count": null,
   "metadata": {},
   "outputs": [],
   "source": [
    "# Insurance Claims transaction data\n",
    "insurance_csv = pd.read_csv(\"./datasets/insurance_data.csv\")\n",
    "insurance_csv.columns"
   ]
  },
  {
   "cell_type": "code",
   "execution_count": null,
   "metadata": {},
   "outputs": [],
   "source": [
    "# This file contains the data about vendors who assist Insurance Agent while reviewing and investigating the claims\n",
    "vendor_csv = pd.read_csv(\"./datasets/vendor_data.csv\")\n",
    "vendor_csv.head()"
   ]
  },
  {
   "cell_type": "markdown",
   "metadata": {},
   "source": [
    "## Iteration 1\n",
    "\n",
    "Lets build the following graph\n",
    "```cypher\n",
    "(:Agent) -[:assigned_to]-> (:Claim) <-[:involved_in]-(:Vendor)\n",
    "```"
   ]
  },
  {
   "cell_type": "code",
   "execution_count": null,
   "metadata": {},
   "outputs": [],
   "source": [
    "# Create Vendor nodes\n",
    "\n",
    "# Create constraint on Vendor nodes\n",
    "gds.run_cypher('create constraint if not exists for (v:Vendor) require (v.id) is node key')\n",
    "\n",
    "# Select the data we need for vendor nodes\n",
    "vendor_node_data = vendor_csv[['VENDOR_ID', 'VENDOR_NAME']].drop_duplicates()\n",
    "\n",
    "# Insert the data as Vendor nodes with id and name properties\n",
    "number_of_vendor_nodes = gds.run_cypher('''\n",
    "    unwind $rows as row\n",
    "    merge (v:Vendor{id: row['VENDOR_ID']})\n",
    "        set v.name = row['VENDOR_NAME']\n",
    "    return count(*) as nodes_created\n",
    "''', params = { 'rows' : vendor_node_data.to_dict('records') })[\"nodes_created\"][0]\n",
    "\n",
    "assert number_of_vendor_nodes == vendor_node_data.shape[0], \"Output does not match input\"\n"
   ]
  },
  {
   "cell_type": "code",
   "execution_count": null,
   "metadata": {},
   "outputs": [],
   "source": [
    "# Create Agent nodes\n",
    "\n",
    "# Create constraint on Agent nodes\n",
    "gds.run_cypher('create constraint if not exists for (v:Agent) require (v.id) is node key')\n",
    "\n",
    "# Select the data we need for vendor nodes\n",
    "agent_node_data = employee_csv[['AGENT_ID', 'AGENT_NAME']].drop_duplicates()\n",
    "\n",
    "# Insert the data as Vendor nodes with id and name properties\n",
    "number_of_agent_nodes = gds.run_cypher('''\n",
    "    unwind $rows as row\n",
    "    merge (v:Agent{id: row['AGENT_ID']})\n",
    "        set v.name = row['AGENT_NAME']\n",
    "    return count(*) as nodes_created\n",
    "''', params = { 'rows' : agent_node_data.to_dict('records') })[\"nodes_created\"][0]\n",
    "\n",
    "assert number_of_agent_nodes == agent_node_data.shape[0], \"Output does not match input\"\n"
   ]
  },
  {
   "cell_type": "code",
   "execution_count": null,
   "metadata": {},
   "outputs": [],
   "source": [
    "# Create Claim nodes\n",
    "gds.run_cypher('create constraint if not exists for (v:Claim) require (v.id) is node key')\n",
    "\n",
    "# Select the data we need for vendor nodes\n",
    "claim_node_data = insurance_csv[['TRANSACTION_ID', 'REPORT_DT', 'CLAIM_AMOUNT', 'INSURANCE_TYPE', 'CLAIM_STATUS', 'RISK_SEGMENTATION']].drop_duplicates()\n",
    "\n",
    "# Insert the data as Claim nodes with id and name properties\n",
    "number_of_claim_nodes = gds.run_cypher('''\n",
    "    unwind $rows as row\n",
    "    merge (v:Claim{id: row['TRANSACTION_ID']})\n",
    "        set v.report_date=date(row['REPORT_DT']),\n",
    "            v.claim_amount=toInteger(row['CLAIM_AMOUNT']),\n",
    "            v.insurance_type=row['INSURANCE_TYPE'],\n",
    "            v.status=row['CLAIM_STATUS'],\n",
    "            v.risk_segment=row['RISK_SEGMENTATION']\n",
    "    return count(*) as nodes_created\n",
    "''', params = { 'rows' : claim_node_data.to_dict('records') })[\"nodes_created\"][0]\n",
    "\n",
    "assert number_of_claim_nodes == claim_node_data.shape[0], \"Output does not match input\""
   ]
  },
  {
   "cell_type": "code",
   "execution_count": null,
   "metadata": {},
   "outputs": [],
   "source": [
    "# Check what we have in the database so far\n",
    "gds.run_cypher('match (n) return labels(n) as labels, count(*) as count').head()"
   ]
  },
  {
   "cell_type": "code",
   "execution_count": null,
   "metadata": {},
   "outputs": [],
   "source": [
    "# Create (:Claim) <-[:assigned_to]-(:Agent) relationship\n",
    "\n",
    "# Select the data we need\n",
    "assigned_to_rel_data = insurance_csv[['TRANSACTION_ID', 'AGENT_ID']].drop_duplicates()\n",
    "\n",
    "# Create relationships\n",
    "number_of_assigned_to_rels = gds.run_cypher('''\n",
    "    unwind $rows as row\n",
    "    match (c:Claim{id: row['TRANSACTION_ID']}),\n",
    "          (a:Agent{id: row['AGENT_ID']})\n",
    "    with c,a\n",
    "    merge (c)<-[:assigned_to]-(a)\n",
    "    return count(*) as rels_created\n",
    "''', params = { 'rows' : assigned_to_rel_data.to_dict('records') })[\"rels_created\"][0]\n",
    "\n",
    "assert number_of_assigned_to_rels == assigned_to_rel_data.shape[0], \"Output does not match input\""
   ]
  },
  {
   "cell_type": "code",
   "execution_count": null,
   "metadata": {},
   "outputs": [],
   "source": [
    "# Create (:Claim) <-[:involved_in]-(:Vendor) relationship\n",
    "#AGENT_ID\tVENDOR_ID\n",
    "\n",
    "# Select the data we need\n",
    "involved_in_rel_data = insurance_csv[['TRANSACTION_ID', 'VENDOR_ID']].dropna().drop_duplicates()\n",
    "\n",
    "# Create relationships\n",
    "number_of_involved_in_rels = gds.run_cypher('''\n",
    "    unwind $rows as row\n",
    "    match (v:Vendor{id: row['VENDOR_ID']}),\n",
    "          (c:Claim{id: row['TRANSACTION_ID']})\n",
    "    with c, v, row\n",
    "    merge (c)<-[:involved_in]-(v)\n",
    "    return count(*) as rels_created\n",
    "''', params = { 'rows' : involved_in_rel_data.to_dict('records') })[\"rels_created\"][0]\n",
    "\n",
    "assert number_of_involved_in_rels == involved_in_rel_data.shape[0], \"Output does not match input\""
   ]
  },
  {
   "cell_type": "code",
   "execution_count": null,
   "metadata": {},
   "outputs": [],
   "source": [
    "# Check what we have in the database so far\n",
    "gds.run_cypher('match ()-[r]->() return type(r) as relationship, count(*) as count').head()"
   ]
  },
  {
   "cell_type": "code",
   "execution_count": null,
   "metadata": {},
   "outputs": [],
   "source": [
    "# Check risk segmentations\n",
    "gds.run_cypher('match (c:Claim) return c.risk_segment as segmentation, count(*) as count').head()\n"
   ]
  },
  {
   "cell_type": "code",
   "execution_count": null,
   "metadata": {},
   "outputs": [],
   "source": [
    "# Check insurance type for claims\n",
    "gds.run_cypher(''' \n",
    "    match (c:Claim) \n",
    "    return  c.insurance_type as insurance_type, \n",
    "            count(*) as count, \n",
    "            sum(c.claim_amount) as total_claim_amount \n",
    "    order by total_claim_amount desc\n",
    "''').head(10)"
   ]
  },
  {
   "cell_type": "markdown",
   "metadata": {},
   "source": [
    "# Basic queries"
   ]
  },
  {
   "cell_type": "code",
   "execution_count": null,
   "metadata": {},
   "outputs": [],
   "source": [
    "# Do we have any colluding vendors and agents\n",
    "gds.run_cypher('''\n",
    "    match (a:Agent)-[:assigned_to]->(:Claim)<-[:involved_in]-(v:Vendor)\n",
    "    return a.id as agent, v.id as vendor, count(*) as numberOfClaims order by numberOfClaims desc limit 10\n",
    "''').head()"
   ]
  },
  {
   "cell_type": "markdown",
   "metadata": {},
   "source": [
    "Example\n",
    "\n",
    "![](./images/colluding.png)\n",
    "\n",
    "Note: This looks fine, for now. In a larger sample we would probably find some parties that are involved together too freqently"
   ]
  },
  {
   "cell_type": "code",
   "execution_count": null,
   "metadata": {},
   "outputs": [],
   "source": [
    "# Top agents\n",
    "gds.run_cypher('''\n",
    "    match (a:Agent)-[:assigned_to]->(:Claim)\n",
    "    return a.id as agent, count(*) as numberOfClaims order by numberOfClaims desc limit 10\n",
    "''').head()"
   ]
  },
  {
   "cell_type": "code",
   "execution_count": null,
   "metadata": {},
   "outputs": [],
   "source": [
    "# Top vendors\n",
    "gds.run_cypher('''\n",
    "    match (a:Vendor)-[:involved_in]->(:Claim)\n",
    "    return a.id as vendor, count(*) as numberOfClaims order by numberOfClaims desc limit 10\n",
    "''').head()"
   ]
  },
  {
   "cell_type": "code",
   "execution_count": null,
   "metadata": {},
   "outputs": [],
   "source": [
    "# Susplcious agents?\n",
    "sus_agents=gds.run_cypher('''\n",
    "    match (a:Agent)-[:assigned_to]->(c:Claim{status:'A'})\n",
    "    with a, sum(c.claim_amount) as total_claim_amount\n",
    "    with avg(total_claim_amount) as avg_total_claim_amount\n",
    "    match (a:Agent)-[:assigned_to]->(c:Claim{status:'A'})\n",
    "    with \n",
    "        a.id as agent,\n",
    "        count(*) as numberOfClaims, \n",
    "        sum(c.claim_amount) as total_claim_amount, \n",
    "        avg_total_claim_amount\n",
    "    return \n",
    "        agent, \n",
    "        numberOfClaims, \n",
    "        total_claim_amount, \n",
    "        round(100.0*total_claim_amount/avg_total_claim_amount) as percent_of_average \n",
    "    order by total_claim_amount desc limit 10\n",
    "''').head(10)"
   ]
  },
  {
   "cell_type": "code",
   "execution_count": null,
   "metadata": {},
   "outputs": [],
   "source": [
    "# Excercise: Make a histogram (for Susplcious agents)"
   ]
  },
  {
   "cell_type": "code",
   "execution_count": null,
   "metadata": {},
   "outputs": [],
   "source": []
  }
 ],
 "metadata": {
  "kernelspec": {
   "display_name": "Python 3.9.13 ('notebooks')",
   "language": "python",
   "name": "python3"
  },
  "language_info": {
   "codemirror_mode": {
    "name": "ipython",
    "version": 3
   },
   "file_extension": ".py",
   "mimetype": "text/x-python",
   "name": "python",
   "nbconvert_exporter": "python",
   "pygments_lexer": "ipython3",
   "version": "3.9.13 | packaged by conda-forge | (main, May 27 2022, 17:00:33) \n[Clang 13.0.1 ]"
  },
  "orig_nbformat": 4,
  "vscode": {
   "interpreter": {
    "hash": "c68434ca16130d73e64183f54aeda16ecffce872c062f16976fd0d983519d848"
   }
  }
 },
 "nbformat": 4,
 "nbformat_minor": 2
}
