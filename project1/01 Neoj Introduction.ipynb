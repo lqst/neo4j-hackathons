{
 "cells": [
  {
   "cell_type": "markdown",
   "metadata": {},
   "source": [
    "# Introduction to Neo4j"
   ]
  },
  {
   "cell_type": "markdown",
   "metadata": {},
   "source": [
    "## Install packages"
   ]
  },
  {
   "cell_type": "code",
   "execution_count": null,
   "metadata": {},
   "outputs": [],
   "source": [
    "!%pip install graphdatascience pandas"
   ]
  },
  {
   "cell_type": "code",
   "execution_count": null,
   "metadata": {},
   "outputs": [],
   "source": [
    "import pandas as pd\n",
    "from graphdatascience import GraphDataScience"
   ]
  },
  {
   "cell_type": "code",
   "execution_count": null,
   "metadata": {},
   "outputs": [],
   "source": [
    "DB_ULR = \"neo4j://localhost:7687\"\n",
    "DB_USER = \"neo4j\"\n",
    "DB_PASS = \"test1234\"\n",
    "DB_NAME = \"neo4j\"\n",
    "gds = GraphDataScience(DB_ULR, auth=(DB_USER, DB_PASS))"
   ]
  },
  {
   "cell_type": "markdown",
   "metadata": {},
   "source": [
    "## Hello world\n",
    "\n",
    "```cypher\n",
    "(:Database {name:\"Neo4j\"})-[:SAYS{using:\"graphs\"}]->(:Message {name:\"Hello World!\"}) \n",
    "```\n",
    "![](./images/hello_world.png)\n"
   ]
  },
  {
   "cell_type": "code",
   "execution_count": null,
   "metadata": {},
   "outputs": [],
   "source": [
    "# Create the hello world graph\n",
    "# merge = match or create the entire pattern\n",
    "hello_world = gds.run_cypher('''\n",
    "    merge (database:Database {name:\"Neo4j\"})-[r:SAYS{using:\"graphs\"}]->(message:Message {name:\"Hello World!\"}) \n",
    "    return database, r, message\n",
    "''')\n",
    "print(hello_world['database'][0])\n",
    "print(hello_world['r'][0])\n",
    "print(hello_world['message'][0])"
   ]
  },
  {
   "cell_type": "code",
   "execution_count": null,
   "metadata": {},
   "outputs": [],
   "source": [
    "# This time, return properties as a table instead of the entire node- and relationship graph elements\n",
    "hello_world_table = gds.run_cypher('''\n",
    "    merge (database:Database {name:\"Neo4j\"})-[r:SAYS{using:\"graphs\"}]->(message:Message {name:\"Hello World!\"}) \n",
    "    return \n",
    "        database.name as database_name, \n",
    "        r.using as says_using, \n",
    "        message.name as message\n",
    "''')\n",
    "hello_world_table.head()\n"
   ]
  },
  {
   "cell_type": "code",
   "execution_count": null,
   "metadata": {},
   "outputs": [],
   "source": [
    "# Clean up\n",
    "gds.run_cypher('''\n",
    "    match (database:Database {name:\"Neo4j\"})-[r:SAYS{using:\"graphs\"}]->(message:Message {name:\"Hello World!\"}) \n",
    "    delete database, r, message\n",
    "''')"
   ]
  },
  {
   "cell_type": "code",
   "execution_count": null,
   "metadata": {},
   "outputs": [],
   "source": []
  }
 ],
 "metadata": {
  "kernelspec": {
   "display_name": "Python 3.9.13 ('notebooks')",
   "language": "python",
   "name": "python3"
  },
  "language_info": {
   "codemirror_mode": {
    "name": "ipython",
    "version": 3
   },
   "file_extension": ".py",
   "mimetype": "text/x-python",
   "name": "python",
   "nbconvert_exporter": "python",
   "pygments_lexer": "ipython3",
   "version": "3.9.13"
  },
  "orig_nbformat": 4,
  "vscode": {
   "interpreter": {
    "hash": "c68434ca16130d73e64183f54aeda16ecffce872c062f16976fd0d983519d848"
   }
  }
 },
 "nbformat": 4,
 "nbformat_minor": 2
}
